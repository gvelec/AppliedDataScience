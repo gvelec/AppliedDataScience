{
  "nbformat": 4,
  "nbformat_minor": 0,
  "metadata": {
    "colab": {
      "name": "AppliedDataScienceCapstone.ipynb",
      "provenance": [],
      "authorship_tag": "ABX9TyNyTk1UmoYzQgPTZzzIQhq/",
      "include_colab_link": true
    },
    "kernelspec": {
      "name": "python3",
      "display_name": "Python 3"
    }
  },
  "cells": [
    {
      "cell_type": "markdown",
      "metadata": {
        "id": "view-in-github",
        "colab_type": "text"
      },
      "source": [
        "<a href=\"https://colab.research.google.com/github/gvelec/AppliedDataScience/blob/master/AppliedDataScienceCapstone.ipynb\" target=\"_parent\"><img src=\"https://colab.research.google.com/assets/colab-badge.svg\" alt=\"Open In Colab\"/></a>"
      ]
    },
    {
      "cell_type": "markdown",
      "metadata": {
        "id": "pxOkR0fml1Z_",
        "colab_type": "text"
      },
      "source": [
        "#APPLIED DATA SCIENCE - Specialization by IBM|COURSERA\n",
        "\n",
        "According to the methodology proposed in the pre-grade assignment, this notebook will be mainly used for the capstone project.\n",
        "\n",
        "Bellow these lines will be registered the progress in my code proposal for this project, always following the instructions and guidelines from this capstone course."
      ]
    },
    {
      "cell_type": "code",
      "metadata": {
        "id": "LnGgMdQXP0Qg",
        "colab_type": "code",
        "colab": {}
      },
      "source": [
        "# Libraries and set-up\n",
        "import pandas as pd\n",
        "import numpy as np"
      ],
      "execution_count": 1,
      "outputs": []
    },
    {
      "cell_type": "code",
      "metadata": {
        "id": "edscn4Dfls-5",
        "colab_type": "code",
        "colab": {
          "base_uri": "https://localhost:8080/",
          "height": 33
        },
        "outputId": "c1473f55-4d92-4a73-af62-9ec6740af915"
      },
      "source": [
        "# 1st task\n",
        "print('Hello Capstone Project Course!')"
      ],
      "execution_count": 2,
      "outputs": [
        {
          "output_type": "stream",
          "text": [
            "Hello Capstone Project Course!\n"
          ],
          "name": "stdout"
        }
      ]
    }
  ]
}