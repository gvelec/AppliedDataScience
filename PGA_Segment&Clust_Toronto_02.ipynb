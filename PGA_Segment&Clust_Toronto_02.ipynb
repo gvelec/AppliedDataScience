{
  "nbformat": 4,
  "nbformat_minor": 0,
  "metadata": {
    "colab": {
      "name": "PGA_Segment&Clust_Toronto_02.ipynb",
      "provenance": [],
      "collapsed_sections": [],
      "authorship_tag": "ABX9TyO2lauQjwprAjoSTnLMdooe",
      "include_colab_link": true
    },
    "kernelspec": {
      "name": "python3",
      "display_name": "Python 3"
    }
  },
  "cells": [
    {
      "cell_type": "markdown",
      "metadata": {
        "id": "view-in-github",
        "colab_type": "text"
      },
      "source": [
        "<a href=\"https://colab.research.google.com/github/gvelec/AppliedDataScience/blob/master/PGA_Segment%26Clust_Toronto_02.ipynb\" target=\"_parent\"><img src=\"https://colab.research.google.com/assets/colab-badge.svg\" alt=\"Open In Colab\"/></a>"
      ]
    },
    {
      "cell_type": "markdown",
      "metadata": {
        "id": "5zZjYwVZXsxS",
        "colab_type": "text"
      },
      "source": [
        "# Peer-graded Assignment: Segmenting and Clustering Neighborhoods in Toronto\n",
        "\n",
        "\n",
        "> In the next cells I continue with my code propose in python, following the instruccions for this peer-graded assignement."
      ]
    },
    {
      "cell_type": "code",
      "metadata": {
        "id": "Bm9dtAsSXVcB",
        "colab_type": "code",
        "colab": {}
      },
      "source": [
        "# loading the libraries required\n",
        "import pandas as pd\n",
        "from google.colab import drive\n",
        "#"
      ],
      "execution_count": 1,
      "outputs": []
    },
    {
      "cell_type": "markdown",
      "metadata": {
        "id": "mwMUtdvMHzRq",
        "colab_type": "text"
      },
      "source": [
        "At this point, I grant access to my Google Drive to read past results and back new ones. Also, I download data from a public repository."
      ]
    },
    {
      "cell_type": "code",
      "metadata": {
        "id": "awwFU393YJGe",
        "colab_type": "code",
        "colab": {
          "base_uri": "https://localhost:8080/",
          "height": 118
        },
        "outputId": "803edf66-cadf-4c73-94cf-8b557d368eaf"
      },
      "source": [
        "# getting access to my drive as local repository\n",
        "ROOT = \"/content/drive/\"\n",
        "drive.mount(ROOT)\n",
        "# loading data from CSV file in my local repository and convert 'results' to a dataframe\n",
        "results = pd.read_csv('drive/My Drive/DataScience/results.csv')\n",
        "# loading CSV file data from a public repository and convert it to a dataframe\n",
        "latlong = pd.read_csv('https://cocl.us/Geospatial_data')"
      ],
      "execution_count": 2,
      "outputs": [
        {
          "output_type": "stream",
          "text": [
            "Go to this URL in a browser: https://accounts.google.com/o/oauth2/auth?client_id=947318989803-6bn6qk8qdgf4n4g3pfee6491hc0brc4i.apps.googleusercontent.com&redirect_uri=urn%3aietf%3awg%3aoauth%3a2.0%3aoob&response_type=code&scope=email%20https%3a%2f%2fwww.googleapis.com%2fauth%2fdocs.test%20https%3a%2f%2fwww.googleapis.com%2fauth%2fdrive%20https%3a%2f%2fwww.googleapis.com%2fauth%2fdrive.photos.readonly%20https%3a%2f%2fwww.googleapis.com%2fauth%2fpeopleapi.readonly\n",
            "\n",
            "Enter your authorization code:\n",
            "··········\n",
            "Mounted at /content/drive/\n"
          ],
          "name": "stdout"
        }
      ]
    },
    {
      "cell_type": "markdown",
      "metadata": {
        "id": "Pps-5hfDUI5U",
        "colab_type": "text"
      },
      "source": [
        "In order to search the correct geo data to each 'Postal Code', the next code transform the DataFrame 'results' indexing it with the column 'Postal Code', and add two columns for 'Latitude' and 'Longitude' data. \n",
        "To continue this process, I propose a for loop that allows me to take the 'Postal Codes' one by one to search the DataFrame 'latlong' for the corresponding GeoData, and then add it in two new columns respectively. "
      ]
    },
    {
      "cell_type": "code",
      "metadata": {
        "id": "kB6hDr0phm-j",
        "colab_type": "code",
        "colab": {
          "base_uri": "https://localhost:8080/",
          "height": 553
        },
        "outputId": "9c32aaa1-a9c1-4d3d-fbcc-564ef9cf0b80"
      },
      "source": [
        "# transforming DataFrame 'results' to add geolocation for each 'Postal Code'.\n",
        "#\n",
        "results_latlong = results.set_index('Postal Code') # indexing this DataFrame with 'Postal Code' Column.\n",
        "results_latlong['Latitude'] = 0.0 # adding a new column for \"Latitude\", filling it with 0.0, and formating it like float dtype.\n",
        "results_latlong['Longitude'] = 0.0 # adding a new column for \"Longitude\", filling it with 0.0, and formating it like float dtype.\n",
        "for code in results['Postal Code']:\n",
        "  x = latlong[latlong['Postal Code'] == code] # extracting Geodata for each 'Postal Code'\n",
        "  results_latlong['Latitude'][code] = x['Latitude'] # adding Latitude for each 'Postal Code'\n",
        "  results_latlong['Longitude'][code] = x['Longitude'] # adding Longitude for each 'Postal Code'\n",
        "results_latlong.reset_index() # reseting the index to recover the 'Postal Code' Column."
      ],
      "execution_count": 3,
      "outputs": [
        {
          "output_type": "stream",
          "text": [
            "/usr/local/lib/python3.6/dist-packages/ipykernel_launcher.py:8: SettingWithCopyWarning: \n",
            "A value is trying to be set on a copy of a slice from a DataFrame\n",
            "\n",
            "See the caveats in the documentation: https://pandas.pydata.org/pandas-docs/stable/user_guide/indexing.html#returning-a-view-versus-a-copy\n",
            "  \n",
            "/usr/local/lib/python3.6/dist-packages/ipykernel_launcher.py:9: SettingWithCopyWarning: \n",
            "A value is trying to be set on a copy of a slice from a DataFrame\n",
            "\n",
            "See the caveats in the documentation: https://pandas.pydata.org/pandas-docs/stable/user_guide/indexing.html#returning-a-view-versus-a-copy\n",
            "  if __name__ == '__main__':\n"
          ],
          "name": "stderr"
        },
        {
          "output_type": "execute_result",
          "data": {
            "text/html": [
              "<div>\n",
              "<style scoped>\n",
              "    .dataframe tbody tr th:only-of-type {\n",
              "        vertical-align: middle;\n",
              "    }\n",
              "\n",
              "    .dataframe tbody tr th {\n",
              "        vertical-align: top;\n",
              "    }\n",
              "\n",
              "    .dataframe thead th {\n",
              "        text-align: right;\n",
              "    }\n",
              "</style>\n",
              "<table border=\"1\" class=\"dataframe\">\n",
              "  <thead>\n",
              "    <tr style=\"text-align: right;\">\n",
              "      <th></th>\n",
              "      <th>Postal Code</th>\n",
              "      <th>Borough</th>\n",
              "      <th>Neighbourhood</th>\n",
              "      <th>Latitude</th>\n",
              "      <th>Longitude</th>\n",
              "    </tr>\n",
              "  </thead>\n",
              "  <tbody>\n",
              "    <tr>\n",
              "      <th>0</th>\n",
              "      <td>M3A</td>\n",
              "      <td>North York</td>\n",
              "      <td>Parkwoods</td>\n",
              "      <td>43.753259</td>\n",
              "      <td>-79.329656</td>\n",
              "    </tr>\n",
              "    <tr>\n",
              "      <th>1</th>\n",
              "      <td>M4A</td>\n",
              "      <td>North York</td>\n",
              "      <td>Victoria Village</td>\n",
              "      <td>43.725882</td>\n",
              "      <td>-79.315572</td>\n",
              "    </tr>\n",
              "    <tr>\n",
              "      <th>2</th>\n",
              "      <td>M5A</td>\n",
              "      <td>Downtown Toronto</td>\n",
              "      <td>Regent Park, Harbourfront</td>\n",
              "      <td>43.654260</td>\n",
              "      <td>-79.360636</td>\n",
              "    </tr>\n",
              "    <tr>\n",
              "      <th>3</th>\n",
              "      <td>M6A</td>\n",
              "      <td>North York</td>\n",
              "      <td>Lawrence Manor, Lawrence Heights</td>\n",
              "      <td>43.718518</td>\n",
              "      <td>-79.464763</td>\n",
              "    </tr>\n",
              "    <tr>\n",
              "      <th>4</th>\n",
              "      <td>M7A</td>\n",
              "      <td>Downtown Toronto</td>\n",
              "      <td>Queen's Park, Ontario Provincial Government</td>\n",
              "      <td>43.662301</td>\n",
              "      <td>-79.389494</td>\n",
              "    </tr>\n",
              "    <tr>\n",
              "      <th>...</th>\n",
              "      <td>...</td>\n",
              "      <td>...</td>\n",
              "      <td>...</td>\n",
              "      <td>...</td>\n",
              "      <td>...</td>\n",
              "    </tr>\n",
              "    <tr>\n",
              "      <th>97</th>\n",
              "      <td>M8X</td>\n",
              "      <td>Etobicoke</td>\n",
              "      <td>The Kingsway, Montgomery Road, Old Mill North</td>\n",
              "      <td>43.653654</td>\n",
              "      <td>-79.506944</td>\n",
              "    </tr>\n",
              "    <tr>\n",
              "      <th>98</th>\n",
              "      <td>M4Y</td>\n",
              "      <td>Downtown Toronto</td>\n",
              "      <td>Church and Wellesley</td>\n",
              "      <td>43.665860</td>\n",
              "      <td>-79.383160</td>\n",
              "    </tr>\n",
              "    <tr>\n",
              "      <th>99</th>\n",
              "      <td>M7Y</td>\n",
              "      <td>East Toronto</td>\n",
              "      <td>Business reply mail Processing Centre, South C...</td>\n",
              "      <td>43.662744</td>\n",
              "      <td>-79.321558</td>\n",
              "    </tr>\n",
              "    <tr>\n",
              "      <th>100</th>\n",
              "      <td>M8Y</td>\n",
              "      <td>Etobicoke</td>\n",
              "      <td>Old Mill South, King's Mill Park, Sunnylea, Hu...</td>\n",
              "      <td>43.636258</td>\n",
              "      <td>-79.498509</td>\n",
              "    </tr>\n",
              "    <tr>\n",
              "      <th>101</th>\n",
              "      <td>M8Z</td>\n",
              "      <td>Etobicoke</td>\n",
              "      <td>Mimico NW, The Queensway West, South of Bloor,...</td>\n",
              "      <td>43.628841</td>\n",
              "      <td>-79.520999</td>\n",
              "    </tr>\n",
              "  </tbody>\n",
              "</table>\n",
              "<p>102 rows × 5 columns</p>\n",
              "</div>"
            ],
            "text/plain": [
              "    Postal Code           Borough  ...   Latitude  Longitude\n",
              "0           M3A        North York  ...  43.753259 -79.329656\n",
              "1           M4A        North York  ...  43.725882 -79.315572\n",
              "2           M5A  Downtown Toronto  ...  43.654260 -79.360636\n",
              "3           M6A        North York  ...  43.718518 -79.464763\n",
              "4           M7A  Downtown Toronto  ...  43.662301 -79.389494\n",
              "..          ...               ...  ...        ...        ...\n",
              "97          M8X         Etobicoke  ...  43.653654 -79.506944\n",
              "98          M4Y  Downtown Toronto  ...  43.665860 -79.383160\n",
              "99          M7Y      East Toronto  ...  43.662744 -79.321558\n",
              "100         M8Y         Etobicoke  ...  43.636258 -79.498509\n",
              "101         M8Z         Etobicoke  ...  43.628841 -79.520999\n",
              "\n",
              "[102 rows x 5 columns]"
            ]
          },
          "metadata": {
            "tags": []
          },
          "execution_count": 3
        }
      ]
    },
    {
      "cell_type": "markdown",
      "metadata": {
        "id": "KxtPpXHKixEu",
        "colab_type": "text"
      },
      "source": [
        "Once I finish with the process, the new results need had been saved like a CSV file in my Google Drive like repository to be used."
      ]
    },
    {
      "cell_type": "code",
      "metadata": {
        "id": "UdIEFa7Y0933",
        "colab_type": "code",
        "colab": {}
      },
      "source": [
        "# saving the new results like CSV file in my Google Drive.\n",
        "results_latlong.to_csv('results_latlong.csv')\n",
        "!cp results_latlong.csv \"drive/My Drive/DataScience\""
      ],
      "execution_count": 4,
      "outputs": []
    }
  ]
}