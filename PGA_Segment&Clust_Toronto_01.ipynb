{
  "nbformat": 4,
  "nbformat_minor": 0,
  "metadata": {
    "colab": {
      "name": "PGA_Segment&Clust_Toronto_01.ipynb",
      "provenance": [],
      "collapsed_sections": [],
      "authorship_tag": "ABX9TyN+3rApbYhacvJ5yLg65KY7",
      "include_colab_link": true
    },
    "kernelspec": {
      "name": "python3",
      "display_name": "Python 3"
    }
  },
  "cells": [
    {
      "cell_type": "markdown",
      "metadata": {
        "id": "view-in-github",
        "colab_type": "text"
      },
      "source": [
        "<a href=\"https://colab.research.google.com/github/gvelec/AppliedDataScience/blob/master/PGA_Segment%26Clust_Toronto_01.ipynb\" target=\"_parent\"><img src=\"https://colab.research.google.com/assets/colab-badge.svg\" alt=\"Open In Colab\"/></a>"
      ]
    },
    {
      "cell_type": "markdown",
      "metadata": {
        "id": "EIhqdlDuukcQ",
        "colab_type": "text"
      },
      "source": [
        "# Peer-graded Assignment: Segmenting and Clustering Neighborhoods in Toronto\n",
        "\n",
        "\n",
        "> In the next cells I propose a code in python according with the instruccions for this peer-graded assignement.\n",
        "\n"
      ]
    },
    {
      "cell_type": "markdown",
      "metadata": {
        "id": "UwqqUvp6vcup",
        "colab_type": "text"
      },
      "source": [
        "First I need to load the libraries required to scrap the data."
      ]
    },
    {
      "cell_type": "code",
      "metadata": {
        "id": "VkN4ljAxwtSH",
        "colab_type": "code",
        "colab": {}
      },
      "source": [
        "# WEB SCRAPING\n",
        "# Table from Wikipedia\n",
        "#### Finding ZIP Code, Borough, and Neighbourhood\n",
        "#\n",
        "# loading the libraries required\n",
        "from time import time\n",
        "from IPython.core.display import clear_output\n",
        "from warnings import warn\n",
        "from bs4 import BeautifulSoup\n",
        "import requests\n",
        "import pandas as pd\n",
        "#"
      ],
      "execution_count": 126,
      "outputs": []
    },
    {
      "cell_type": "markdown",
      "metadata": {
        "id": "mm1kEExaw-Lb",
        "colab_type": "text"
      },
      "source": [
        "In this point I need to prepare the variables and parameters to make the request data process."
      ]
    },
    {
      "cell_type": "code",
      "metadata": {
        "id": "pjEZmK05xY9b",
        "colab_type": "code",
        "colab": {}
      },
      "source": [
        "# prepare for the monitoring logic\n",
        "start_time = time() # note the system time when the program starts\n",
        "#\n",
        "# variables to handle the request\n",
        "query = {'table':''}\n",
        "url = ' https://en.wikipedia.org/wiki/List_of_postal_codes_of_Canada:_M' # web to scrap\n",
        "#\n",
        "# keep the output clear\n",
        "clear_output(wait = True)\n",
        "#"
      ],
      "execution_count": 128,
      "outputs": []
    },
    {
      "cell_type": "markdown",
      "metadata": {
        "id": "tp_2fol91fp0",
        "colab_type": "text"
      },
      "source": [
        "With this code I going to get the data from the response."
      ]
    },
    {
      "cell_type": "code",
      "metadata": {
        "id": "BRKsgZ0p19IH",
        "colab_type": "code",
        "colab": {}
      },
      "source": [
        "# get the full data from the response\n",
        "def get_data_response():\n",
        "  data = response.text\n",
        "  soup = BeautifulSoup(data, 'html.parser')\n",
        "  table = soup.find_all('table')[0] # Grab the table\n",
        "  new_table = pd.DataFrame(columns=['Postal Code','Borough','Neighbourhood'],index=range(0,181)) # I know the size and the columns names\n",
        "  #"
      ],
      "execution_count": 129,
      "outputs": []
    },
    {
      "cell_type": "markdown",
      "metadata": {
        "id": "SYt6202P2Ydi",
        "colab_type": "text"
      },
      "source": [
        "This code was prepared to extract the items required from the data."
      ]
    },
    {
      "cell_type": "code",
      "metadata": {
        "id": "Jp07HOUA2sql",
        "colab_type": "code",
        "colab": {}
      },
      "source": [
        "def extratc_items():\n",
        "  # get the items requested  \n",
        "  row_marker = 0\n",
        "  for row in table.find_all('tr'):\n",
        "      column_marker = 0\n",
        "      columns = row.find_all('td')\n",
        "      for column in columns:\n",
        "          new_table.iat[row_marker,column_marker] = column.get_text()[:-1]\n",
        "          column_marker += 1\n",
        "      row_marker += 1\n",
        "  new_table=new_table.drop([0])\n",
        "  #"
      ],
      "execution_count": 130,
      "outputs": []
    },
    {
      "cell_type": "markdown",
      "metadata": {
        "id": "q75dSeaq3NUW",
        "colab_type": "text"
      },
      "source": [
        "In this code I did the data cleanning and fix the table according with the instructions."
      ]
    },
    {
      "cell_type": "code",
      "metadata": {
        "id": "2XpLUFqX3wmw",
        "colab_type": "code",
        "colab": {}
      },
      "source": [
        "def data_cleaning():\n",
        "  # filtering the Borough from Toronto\n",
        "  toronto_boroughs=['North York','East York','York','Scarborough','Etobicoke','Downtown Toronto','East Toronto','West Toronto','North Toronto','Central Toronto']\n",
        "  new_table = new_table[new_table.Borough.isin(toronto_boroughs)]\n",
        "  #\n",
        "  # eliminating the rows with Borough == 'Not assigned'\n",
        "  new_table.drop(new_table[new_table.Borough == 'Not assigned'].index, inplace=True)\n",
        "  #\n",
        "  # assigning the Borough like Neighbourhood for Neighbourhood == 'Not assigned'\n",
        "  new_table['Neighbourhood'].mask(new_table['Neighbourhood'] == 'Not assigned', new_table['Borough'], inplace=True)\n",
        "  #\n",
        "  # reseting the indexes\n",
        "  new_table = new_table.reset_index(drop=True)\n",
        "  #"
      ],
      "execution_count": 131,
      "outputs": []
    },
    {
      "cell_type": "markdown",
      "metadata": {
        "id": "fVn9aB10xrty",
        "colab_type": "text"
      },
      "source": [
        "In order to prevent any isue with the response at the request, we need to check with a conditional 'if-else' to manage the errors or warnings.\n",
        "Ones checked, we proceed to call our principal functions or present the isue info."
      ]
    },
    {
      "cell_type": "code",
      "metadata": {
        "id": "z7f-xWFqLjj0",
        "colab_type": "code",
        "colab": {}
      },
      "source": [
        "# make the request\n",
        "response = requests.get(url, params=query)\n",
        "#\n",
        "# we got a valid response ?\n",
        "if(response.ok):\n",
        "  get_data_response\n",
        "  extratc_items\n",
        "  data_cleaning\n",
        "else:\n",
        "  # display a warning if there are any problems\n",
        "  warn('Request #: {}, Failed with status code: {}'.format(request_count, response.status_code))\n",
        "  #"
      ],
      "execution_count": 132,
      "outputs": []
    },
    {
      "cell_type": "markdown",
      "metadata": {
        "id": "ZoI4D1wG4g4H",
        "colab_type": "text"
      },
      "source": [
        "If was a sussecful process, here we can see the final results with some info about it."
      ]
    },
    {
      "cell_type": "code",
      "metadata": {
        "id": "vQwxJDYf4hnI",
        "colab_type": "code",
        "colab": {
          "base_uri": "https://localhost:8080/",
          "height": 553
        },
        "outputId": "0d8975e8-29f4-4d1d-d843-e9003f618b12"
      },
      "source": [
        "# output some logs for monitoring\n",
        "elapsed_time = time() - start_time\n",
        "clear_output()      \n",
        "print('Scrap process complete\\n')\n",
        "print('Elapsed time: {} seconds, {} Valid Postal Codes Scraped.\\n'.format(elapsed_time, len(new_table)))\n",
        "print(new_table.describe(),'\\n')\n",
        "# output the results\n",
        "new_table"
      ],
      "execution_count": 134,
      "outputs": [
        {
          "output_type": "stream",
          "text": [
            "Scrap process complete\n",
            "\n",
            "Elapsed time: 162.38226127624512 seconds, 102 Valid Postal Codes Scraped.\n",
            "\n",
            "       Postal Code     Borough Neighbourhood\n",
            "count          102         102           102\n",
            "unique         102           9            98\n",
            "top            M9N  North York     Downsview\n",
            "freq             1          24             4 \n",
            "\n"
          ],
          "name": "stdout"
        },
        {
          "output_type": "execute_result",
          "data": {
            "text/html": [
              "<div>\n",
              "<style scoped>\n",
              "    .dataframe tbody tr th:only-of-type {\n",
              "        vertical-align: middle;\n",
              "    }\n",
              "\n",
              "    .dataframe tbody tr th {\n",
              "        vertical-align: top;\n",
              "    }\n",
              "\n",
              "    .dataframe thead th {\n",
              "        text-align: right;\n",
              "    }\n",
              "</style>\n",
              "<table border=\"1\" class=\"dataframe\">\n",
              "  <thead>\n",
              "    <tr style=\"text-align: right;\">\n",
              "      <th></th>\n",
              "      <th>Postal Code</th>\n",
              "      <th>Borough</th>\n",
              "      <th>Neighbourhood</th>\n",
              "    </tr>\n",
              "  </thead>\n",
              "  <tbody>\n",
              "    <tr>\n",
              "      <th>0</th>\n",
              "      <td>M3A</td>\n",
              "      <td>North York</td>\n",
              "      <td>Parkwoods</td>\n",
              "    </tr>\n",
              "    <tr>\n",
              "      <th>1</th>\n",
              "      <td>M4A</td>\n",
              "      <td>North York</td>\n",
              "      <td>Victoria Village</td>\n",
              "    </tr>\n",
              "    <tr>\n",
              "      <th>2</th>\n",
              "      <td>M5A</td>\n",
              "      <td>Downtown Toronto</td>\n",
              "      <td>Regent Park, Harbourfront</td>\n",
              "    </tr>\n",
              "    <tr>\n",
              "      <th>3</th>\n",
              "      <td>M6A</td>\n",
              "      <td>North York</td>\n",
              "      <td>Lawrence Manor, Lawrence Heights</td>\n",
              "    </tr>\n",
              "    <tr>\n",
              "      <th>4</th>\n",
              "      <td>M7A</td>\n",
              "      <td>Downtown Toronto</td>\n",
              "      <td>Queen's Park, Ontario Provincial Government</td>\n",
              "    </tr>\n",
              "    <tr>\n",
              "      <th>...</th>\n",
              "      <td>...</td>\n",
              "      <td>...</td>\n",
              "      <td>...</td>\n",
              "    </tr>\n",
              "    <tr>\n",
              "      <th>97</th>\n",
              "      <td>M8X</td>\n",
              "      <td>Etobicoke</td>\n",
              "      <td>The Kingsway, Montgomery Road, Old Mill North</td>\n",
              "    </tr>\n",
              "    <tr>\n",
              "      <th>98</th>\n",
              "      <td>M4Y</td>\n",
              "      <td>Downtown Toronto</td>\n",
              "      <td>Church and Wellesley</td>\n",
              "    </tr>\n",
              "    <tr>\n",
              "      <th>99</th>\n",
              "      <td>M7Y</td>\n",
              "      <td>East Toronto</td>\n",
              "      <td>Business reply mail Processing Centre, South C...</td>\n",
              "    </tr>\n",
              "    <tr>\n",
              "      <th>100</th>\n",
              "      <td>M8Y</td>\n",
              "      <td>Etobicoke</td>\n",
              "      <td>Old Mill South, King's Mill Park, Sunnylea, Hu...</td>\n",
              "    </tr>\n",
              "    <tr>\n",
              "      <th>101</th>\n",
              "      <td>M8Z</td>\n",
              "      <td>Etobicoke</td>\n",
              "      <td>Mimico NW, The Queensway West, South of Bloor,...</td>\n",
              "    </tr>\n",
              "  </tbody>\n",
              "</table>\n",
              "<p>102 rows × 3 columns</p>\n",
              "</div>"
            ],
            "text/plain": [
              "    Postal Code  ...                                      Neighbourhood\n",
              "0           M3A  ...                                          Parkwoods\n",
              "1           M4A  ...                                   Victoria Village\n",
              "2           M5A  ...                          Regent Park, Harbourfront\n",
              "3           M6A  ...                   Lawrence Manor, Lawrence Heights\n",
              "4           M7A  ...        Queen's Park, Ontario Provincial Government\n",
              "..          ...  ...                                                ...\n",
              "97          M8X  ...      The Kingsway, Montgomery Road, Old Mill North\n",
              "98          M4Y  ...                               Church and Wellesley\n",
              "99          M7Y  ...  Business reply mail Processing Centre, South C...\n",
              "100         M8Y  ...  Old Mill South, King's Mill Park, Sunnylea, Hu...\n",
              "101         M8Z  ...  Mimico NW, The Queensway West, South of Bloor,...\n",
              "\n",
              "[102 rows x 3 columns]"
            ]
          },
          "metadata": {
            "tags": []
          },
          "execution_count": 134
        }
      ]
    }
  ]
}