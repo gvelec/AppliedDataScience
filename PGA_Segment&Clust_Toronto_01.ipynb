{
  "nbformat": 4,
  "nbformat_minor": 0,
  "metadata": {
    "colab": {
      "name": "PGA_Segment&Clust_Toronto_01.ipynb",
      "provenance": [],
      "collapsed_sections": [],
      "authorship_tag": "ABX9TyODxHuGbBt7HCDsjWODzmgb",
      "include_colab_link": true
    },
    "kernelspec": {
      "name": "python3",
      "display_name": "Python 3"
    }
  },
  "cells": [
    {
      "cell_type": "markdown",
      "metadata": {
        "id": "view-in-github",
        "colab_type": "text"
      },
      "source": [
        "<a href=\"https://colab.research.google.com/github/gvelec/AppliedDataScience/blob/master/PGA_Segment%26Clust_Toronto_01.ipynb\" target=\"_parent\"><img src=\"https://colab.research.google.com/assets/colab-badge.svg\" alt=\"Open In Colab\"/></a>"
      ]
    },
    {
      "cell_type": "markdown",
      "metadata": {
        "id": "EIhqdlDuukcQ",
        "colab_type": "text"
      },
      "source": [
        "# Peer-graded Assignment: Segmenting and Clustering Neighborhoods in Toronto\n",
        "\n",
        "\n",
        "> In the next cells I propose a code in python according with the instruccions for this peer-graded assignement."
      ]
    },
    {
      "cell_type": "markdown",
      "metadata": {
        "id": "UwqqUvp6vcup",
        "colab_type": "text"
      },
      "source": [
        "First I need to load the libraries required to scrap the data."
      ]
    },
    {
      "cell_type": "code",
      "metadata": {
        "id": "VkN4ljAxwtSH",
        "colab_type": "code",
        "colab": {}
      },
      "source": [
        "# WEB SCRAPING\n",
        "# Table from Wikipedia\n",
        "#### Finding Postal Codes, Borough, and Neighbourhood\n",
        "#\n",
        "# loading the libraries required\n",
        "from bs4 import BeautifulSoup\n",
        "import requests\n",
        "import pandas as pd\n",
        "#"
      ],
      "execution_count": 1,
      "outputs": []
    },
    {
      "cell_type": "markdown",
      "metadata": {
        "id": "mm1kEExaw-Lb",
        "colab_type": "text"
      },
      "source": [
        "In this point I need to prepare the parameters to make the request data process."
      ]
    },
    {
      "cell_type": "code",
      "metadata": {
        "id": "pjEZmK05xY9b",
        "colab_type": "code",
        "colab": {}
      },
      "source": [
        "# variables to handle the request\n",
        "query = {'table':''}\n",
        "url = ' https://en.wikipedia.org/wiki/List_of_postal_codes_of_Canada:_M' # web to scrap\n",
        "#"
      ],
      "execution_count": 2,
      "outputs": []
    },
    {
      "cell_type": "markdown",
      "metadata": {
        "id": "tp_2fol91fp0",
        "colab_type": "text"
      },
      "source": [
        "With this code I going to get the data from the response and extract the items required from the data."
      ]
    },
    {
      "cell_type": "code",
      "metadata": {
        "id": "BRKsgZ0p19IH",
        "colab_type": "code",
        "colab": {}
      },
      "source": [
        "# make the request\n",
        "response = requests.get(url, params=query)\n",
        "#\n",
        "# get the full data from the response\n",
        "data = response.text\n",
        "soup = BeautifulSoup(data, 'html.parser')\n",
        "table = soup.find_all('table')[0] # Grab the original table\n",
        "#\n",
        "# to know the original table rows number\n",
        "row_marker = 0\n",
        "for row in table.find_all('tr'):\n",
        "    row_marker += 1\n",
        "#\n",
        "# building a new table to be filled with the correct data\n",
        "new_table = pd.DataFrame(columns=['Postal Code','Borough','Neighbourhood'],index=range(0,row_marker)) # Now I know the size and the columns names\n",
        "#\n",
        "# getting the items requested  \n",
        "row_marker = 0\n",
        "for row in table.find_all('tr'):\n",
        "    column_marker = 0\n",
        "    columns = row.find_all('td')\n",
        "    for column in columns:\n",
        "        new_table.iat[row_marker,column_marker] = column.get_text()[:-1]\n",
        "        column_marker += 1\n",
        "    row_marker += 1\n",
        "new_table = new_table.drop([0])\n",
        "#"
      ],
      "execution_count": 3,
      "outputs": []
    },
    {
      "cell_type": "markdown",
      "metadata": {
        "id": "q75dSeaq3NUW",
        "colab_type": "text"
      },
      "source": [
        "In this code I did the data cleanning and fix the table according with the instructions."
      ]
    },
    {
      "cell_type": "code",
      "metadata": {
        "id": "2XpLUFqX3wmw",
        "colab_type": "code",
        "colab": {
          "base_uri": "https://localhost:8080/",
          "height": 180
        },
        "outputId": "bc611504-217b-49aa-c231-b30c33366424"
      },
      "source": [
        "# eliminating the rows with blank items\n",
        "new_table.dropna(inplace=True)\n",
        "#\n",
        "# filtering the Borough from Toronto\n",
        "toronto_boroughs=['North York','East York','York','Scarborough','Etobicoke','Downtown Toronto','East Toronto','West Toronto','North Toronto','Central Toronto'] # according with the Toronto City Map\n",
        "new_table_in = new_table[new_table.Borough.isin(toronto_boroughs)]    # Valid Postal Codes\n",
        "new_table_not = new_table[~new_table.Borough.isin(toronto_boroughs)]  # Not valid Postal Codes\n",
        "#\n",
        "# eliminating the rows with Borough == 'Not assigned'\n",
        "new_table_in.drop(new_table_in[new_table_in.Borough == 'Not assigned'].index, inplace=True)    # Valid Postal Codes\n",
        "new_table_not.drop(new_table_not[new_table_not.Borough == 'Not assigned'].index, inplace=True) # Not valid Postal Codes\n",
        "#\n",
        "# assigning the Borough like Neighbourhood for Neighbourhood == 'Not assigned'\n",
        "new_table_in['Neighbourhood'].mask(new_table_in['Neighbourhood'] == 'Not assigned', new_table_in['Borough'], inplace=True)    # Valid Postal Codes\n",
        "new_table_not['Neighbourhood'].mask(new_table_not['Neighbourhood'] == 'Not assigned', new_table_not['Borough'], inplace=True) # Not valid Postal Codes\n",
        "#\n",
        "# reseting the indexes\n",
        "new_table_in = new_table_in.reset_index(drop=True)    # Valid Postal Codes\n",
        "new_table_not = new_table_not.reset_index(drop=True)  # Not valid Postal Codes\n",
        "#\n",
        "# searching for Neighbourhoods with multiple Valid Postal Codes\n",
        "multiple_postal_codes = new_table_in[new_table_in.duplicated(subset=['Neighbourhood'],keep=False)]\n",
        "df_multiple = pd.DataFrame(multiple_postal_codes)\n",
        "df_multiple_group = df_multiple.groupby(['Neighbourhood'])['Postal Code'].apply(','.join).reset_index()\n",
        "multiple_postal_neighbourhoods = df_multiple_group['Neighbourhood'].size # Neighbourhoods with multiple valid postal codes\n",
        "#\n",
        "# counting multiple valid postal codes\n",
        "multiple_code = df_multiple['Neighbourhood'].value_counts(ascending=True)\n",
        "#"
      ],
      "execution_count": 4,
      "outputs": [
        {
          "output_type": "stream",
          "text": [
            "/usr/local/lib/python3.6/dist-packages/pandas/core/frame.py:3997: SettingWithCopyWarning: \n",
            "A value is trying to be set on a copy of a slice from a DataFrame\n",
            "\n",
            "See the caveats in the documentation: https://pandas.pydata.org/pandas-docs/stable/user_guide/indexing.html#returning-a-view-versus-a-copy\n",
            "  errors=errors,\n",
            "/usr/local/lib/python3.6/dist-packages/pandas/core/generic.py:8765: SettingWithCopyWarning: \n",
            "A value is trying to be set on a copy of a slice from a DataFrame\n",
            "\n",
            "See the caveats in the documentation: https://pandas.pydata.org/pandas-docs/stable/user_guide/indexing.html#returning-a-view-versus-a-copy\n",
            "  self._update_inplace(new_data)\n"
          ],
          "name": "stderr"
        }
      ]
    },
    {
      "cell_type": "markdown",
      "metadata": {
        "id": "ZoI4D1wG4g4H",
        "colab_type": "text"
      },
      "source": [
        "If was a sussecful process, now I can see the final results with some info about it."
      ]
    },
    {
      "cell_type": "code",
      "metadata": {
        "id": "vQwxJDYf4hnI",
        "colab_type": "code",
        "colab": {
          "base_uri": "https://localhost:8080/",
          "height": 716
        },
        "outputId": "3d009f79-ea30-4ea8-8dd7-e12529283287"
      },
      "source": [
        "# output some logs for monitoring\n",
        "#\n",
        "# some stats\n",
        "valid = new_table_in.to_numpy().shape[0]\n",
        "not_valid = new_table_not.to_numpy().shape[0]\n",
        "total_scraped = valid+not_valid\n",
        "#\n",
        "print('Scrap process complete ==>\\n')\n",
        "print('==================================================================================================')\n",
        "print('    Valid Postal Codes ==> {} for Area of Toronto City According with the Map of the city.\\n'.format(not_valid))\n",
        "print('Not Valid Postal Codes ==> {} for Area of Toronto City According with the Map of the city.'.format(valid))\n",
        "print('==================================================================================================\\n')\n",
        "print('This Neighbourghoods have a Not Valid Postal Code to Toronto City Area')\n",
        "print('{:.2%} ==> {} Not Valid Postal Codes Scraped for \"{}\" : {}.\\n'.format((not_valid/total_scraped),not_valid,new_table_not['Neighbourhood'][0],new_table_not['Postal Code'][0]))\n",
        "print('This Neighbourghoods have a Valid Postal Code to Toronto City Area (Multiple Valid Codes included)')\n",
        "print('{:.2%} ==> {} Valid Postal Codes Scraped.\\n'.format((valid/total_scraped),valid))\n",
        "print('This Neighbourghoods have Multiple Valid Postal Codes to Toronto City Area')\n",
        "marker = 0\n",
        "for count in multiple_code:\n",
        "  print('{:.2%} ==> {} Valid Postal Codes Scraped for \"{}\" : {}.'.format((count/total_scraped),count,df_multiple_group['Neighbourhood'][marker],df_multiple_group['Postal Code'][marker]))\n",
        "  marker = marker+1\n",
        "print('\\n==================================================================================================\\n')\n",
        "#\n",
        "# output the results\n",
        "new_table_in"
      ],
      "execution_count": 5,
      "outputs": [
        {
          "output_type": "stream",
          "text": [
            "Scrap process complete ==>\n",
            "\n",
            "==================================================================================================\n",
            "    Valid Postal Codes ==> 1 for Area of Toronto City According with the Map of the city.\n",
            "\n",
            "Not Valid Postal Codes ==> 102 for Area of Toronto City According with the Map of the city.\n",
            "==================================================================================================\n",
            "\n",
            "This Neighbourghoods have a Not Valid Postal Code to Toronto City Area\n",
            "0.97% ==> 1 Not Valid Postal Codes Scraped for \"Canada Post Gateway Processing Centre\" : M7R.\n",
            "\n",
            "This Neighbourghoods have a Valid Postal Code to Toronto City Area (Multiple Valid Codes included)\n",
            "99.03% ==> 102 Valid Postal Codes Scraped.\n",
            "\n",
            "This Neighbourghoods have Multiple Valid Postal Codes to Toronto City Area\n",
            "1.94% ==> 2 Valid Postal Codes Scraped for \"Don Mills\" : M3B,M3C.\n",
            "3.88% ==> 4 Valid Postal Codes Scraped for \"Downsview\" : M3K,M3L,M3M,M3N.\n",
            "\n",
            "==================================================================================================\n",
            "\n"
          ],
          "name": "stdout"
        },
        {
          "output_type": "execute_result",
          "data": {
            "text/html": [
              "<div>\n",
              "<style scoped>\n",
              "    .dataframe tbody tr th:only-of-type {\n",
              "        vertical-align: middle;\n",
              "    }\n",
              "\n",
              "    .dataframe tbody tr th {\n",
              "        vertical-align: top;\n",
              "    }\n",
              "\n",
              "    .dataframe thead th {\n",
              "        text-align: right;\n",
              "    }\n",
              "</style>\n",
              "<table border=\"1\" class=\"dataframe\">\n",
              "  <thead>\n",
              "    <tr style=\"text-align: right;\">\n",
              "      <th></th>\n",
              "      <th>Postal Code</th>\n",
              "      <th>Borough</th>\n",
              "      <th>Neighbourhood</th>\n",
              "    </tr>\n",
              "  </thead>\n",
              "  <tbody>\n",
              "    <tr>\n",
              "      <th>0</th>\n",
              "      <td>M3A</td>\n",
              "      <td>North York</td>\n",
              "      <td>Parkwoods</td>\n",
              "    </tr>\n",
              "    <tr>\n",
              "      <th>1</th>\n",
              "      <td>M4A</td>\n",
              "      <td>North York</td>\n",
              "      <td>Victoria Village</td>\n",
              "    </tr>\n",
              "    <tr>\n",
              "      <th>2</th>\n",
              "      <td>M5A</td>\n",
              "      <td>Downtown Toronto</td>\n",
              "      <td>Regent Park, Harbourfront</td>\n",
              "    </tr>\n",
              "    <tr>\n",
              "      <th>3</th>\n",
              "      <td>M6A</td>\n",
              "      <td>North York</td>\n",
              "      <td>Lawrence Manor, Lawrence Heights</td>\n",
              "    </tr>\n",
              "    <tr>\n",
              "      <th>4</th>\n",
              "      <td>M7A</td>\n",
              "      <td>Downtown Toronto</td>\n",
              "      <td>Queen's Park, Ontario Provincial Government</td>\n",
              "    </tr>\n",
              "    <tr>\n",
              "      <th>...</th>\n",
              "      <td>...</td>\n",
              "      <td>...</td>\n",
              "      <td>...</td>\n",
              "    </tr>\n",
              "    <tr>\n",
              "      <th>97</th>\n",
              "      <td>M8X</td>\n",
              "      <td>Etobicoke</td>\n",
              "      <td>The Kingsway, Montgomery Road, Old Mill North</td>\n",
              "    </tr>\n",
              "    <tr>\n",
              "      <th>98</th>\n",
              "      <td>M4Y</td>\n",
              "      <td>Downtown Toronto</td>\n",
              "      <td>Church and Wellesley</td>\n",
              "    </tr>\n",
              "    <tr>\n",
              "      <th>99</th>\n",
              "      <td>M7Y</td>\n",
              "      <td>East Toronto</td>\n",
              "      <td>Business reply mail Processing Centre, South C...</td>\n",
              "    </tr>\n",
              "    <tr>\n",
              "      <th>100</th>\n",
              "      <td>M8Y</td>\n",
              "      <td>Etobicoke</td>\n",
              "      <td>Old Mill South, King's Mill Park, Sunnylea, Hu...</td>\n",
              "    </tr>\n",
              "    <tr>\n",
              "      <th>101</th>\n",
              "      <td>M8Z</td>\n",
              "      <td>Etobicoke</td>\n",
              "      <td>Mimico NW, The Queensway West, South of Bloor,...</td>\n",
              "    </tr>\n",
              "  </tbody>\n",
              "</table>\n",
              "<p>102 rows × 3 columns</p>\n",
              "</div>"
            ],
            "text/plain": [
              "    Postal Code  ...                                      Neighbourhood\n",
              "0           M3A  ...                                          Parkwoods\n",
              "1           M4A  ...                                   Victoria Village\n",
              "2           M5A  ...                          Regent Park, Harbourfront\n",
              "3           M6A  ...                   Lawrence Manor, Lawrence Heights\n",
              "4           M7A  ...        Queen's Park, Ontario Provincial Government\n",
              "..          ...  ...                                                ...\n",
              "97          M8X  ...      The Kingsway, Montgomery Road, Old Mill North\n",
              "98          M4Y  ...                               Church and Wellesley\n",
              "99          M7Y  ...  Business reply mail Processing Centre, South C...\n",
              "100         M8Y  ...  Old Mill South, King's Mill Park, Sunnylea, Hu...\n",
              "101         M8Z  ...  Mimico NW, The Queensway West, South of Bloor,...\n",
              "\n",
              "[102 rows x 3 columns]"
            ]
          },
          "metadata": {
            "tags": []
          },
          "execution_count": 5
        }
      ]
    },
    {
      "cell_type": "markdown",
      "metadata": {
        "id": "1vTU0tbZNZcI",
        "colab_type": "text"
      },
      "source": [
        "The next code gives me the possibility to save the results like a .csv file in my Google Drive, in order to be used for different Notebooks in the next task."
      ]
    },
    {
      "cell_type": "code",
      "metadata": {
        "id": "Bk4D8cMYurD0",
        "colab_type": "code",
        "colab": {
          "base_uri": "https://localhost:8080/",
          "height": 33
        },
        "outputId": "a3d064b0-453a-487e-b973-5eef6c61be9c"
      },
      "source": [
        "# getting access to my drive as local repository\n",
        "from google.colab import drive\n",
        "ROOT = \"/content/drive/\"\n",
        "drive.mount(ROOT)\n",
        "# convert results to a csv file and save them in the local repository\n",
        "new_table_in.to_csv('results.csv', index=False)\n",
        "!cp results.csv \"drive/My Drive/DataScience\""
      ],
      "execution_count": 6,
      "outputs": [
        {
          "output_type": "stream",
          "text": [
            "Drive already mounted at /content/drive/; to attempt to forcibly remount, call drive.mount(\"/content/drive/\", force_remount=True).\n"
          ],
          "name": "stdout"
        }
      ]
    }
  ]
}